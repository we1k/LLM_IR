{
 "cells": [
  {
   "cell_type": "code",
   "execution_count": 1,
   "metadata": {},
   "outputs": [
    {
     "name": "stderr",
     "output_type": "stream",
     "text": [
      "/home/lzw/miniconda3/envs/Bert/lib/python3.8/site-packages/fuzzywuzzy/fuzz.py:11: UserWarning: Using slow pure-python SequenceMatcher. Install python-Levenshtein to remove this warning\n",
      "  warnings.warn('Using slow pure-python SequenceMatcher. Install python-Levenshtein to remove this warning')\n"
     ]
    }
   ],
   "source": [
    "import os\n",
    "import sys\n",
    "import json\n",
    "\n",
    "from argparse import ArgumentParser\n",
    "\n",
    "from langchain.embeddings import HuggingFaceEmbeddings\n",
    "from langchain.vectorstores.faiss import FAISS\n",
    "from langchain.docstore.document import Document\n",
    "from langchain.llms import ChatGLM\n",
    "from langchain.chains import LLMChain, RetrievalQA\n",
    "from src.utils import query_db\n",
    "\n",
    "endpoint_url = (\"http://127.0.0.1:29501\")\n",
    "\n",
    "llm = ChatGLM(\n",
    "    endpoint_url=endpoint_url,\n",
    "    history=[],\n",
    "    model_kwargs={\"sample_model_args\": False},\n",
    ")"
   ]
  },
  {
   "cell_type": "code",
   "execution_count": 13,
   "metadata": {},
   "outputs": [
    {
     "data": {
      "text/plain": [
       "('开启陡坡缓降系统后，组合仪表显示白色指示灯。\\n', 100.0)"
      ]
     },
     "execution_count": 13,
     "metadata": {},
     "output_type": "execute_result"
    }
   ],
   "source": [
    "from fuzzywuzzy import process, fuzz\n",
    "\n",
    "def adjusted_ratio_fn(str1, str2):\n",
    "    # 根据字符串长度计算一个权重，用于调整相似度得分\n",
    "    len_weight = min(len(str1), len(str2)) / max(len(str1), len(str2))\n",
    "    \n",
    "    # 计算标准的相似度得分\n",
    "    similarity_score = fuzz.WRatio(str1, str2)\n",
    "    \n",
    "    # 根据长度权重调整得分\n",
    "    score = similarity_score * len_weight\n",
    "    return score\n",
    "\n",
    "process.extractOne(query=\"开启陡坡缓降系统后，组合仪表显示白色指示灯\" , choices=[\"开启陡坡缓降系统后，组合仪表显示白色指示灯。\\n\"], scorer=adjusted_ratio_fn)\n"
   ]
  },
  {
   "cell_type": "code",
   "execution_count": 3,
   "metadata": {},
   "outputs": [
    {
     "name": "stderr",
     "output_type": "stream",
     "text": [
      "Loading checkpoint shards: 100%|██████████| 7/7 [00:10<00:00,  1.53s/it]\n"
     ]
    }
   ],
   "source": [
    "from transformers import AutoModelForCausalLM, AutoTokenizer\n",
    "\n",
    "model_path = \"/home/lzw/.hf_models/chatglm3-6b/\"\n",
    "\n",
    "tokenizer = AutoTokenizer.from_pretrained(model_path, trust_remote_code=True)\n",
    "model = AutoModelForCausalLM.from_pretrained(model_path, trust_remote_code=True).to(\"cuda:3\")"
   ]
  },
  {
   "cell_type": "code",
   "execution_count": null,
   "metadata": {},
   "outputs": [],
   "source": [
    "with open(\"data/测试问题.json\", 'r', encoding='utf-8') as f:\n",
    "    datas = json.load(f)\n",
    "\n",
    "questions = [data['question'] for data in datas]"
   ]
  },
  {
   "cell_type": "code",
   "execution_count": 17,
   "metadata": {},
   "outputs": [
    {
     "name": "stderr",
     "output_type": "stream",
     "text": [
      "No sentence-transformers model found with name /home/lzw/.hf_models/stella-base-zh-v2. Creating a new one with MEAN pooling.\n"
     ]
    }
   ],
   "source": [
    "model_name = \"/home/lzw/.hf_models/stella-base-zh-v2\"\n",
    "embeddings = HuggingFaceEmbeddings(\n",
    "    model_name=model_name,\n",
    "    model_kwargs={\"device\": \"cpu\", } ,\n",
    "    encode_kwargs={\"normalize_embeddings\": False})\n",
    "\n",
    "sentence_db = FAISS.load_local('vector_store/sentence', embeddings)"
   ]
  },
  {
   "cell_type": "code",
   "execution_count": 31,
   "metadata": {},
   "outputs": [
    {
     "name": "stderr",
     "output_type": "stream",
     "text": [
      "/home/lzw/miniconda3/envs/Bert/lib/python3.8/site-packages/fuzzywuzzy/fuzz.py:11: UserWarning: Using slow pure-python SequenceMatcher. Install python-Levenshtein to remove this warning\n",
      "  warnings.warn('Using slow pure-python SequenceMatcher. Install python-Levenshtein to remove this warning')\n"
     ]
    }
   ],
   "source": [
    "from fuzzywuzzy import fuzz, process\n",
    "def adjusted_ratio_fn(str1, str2):\n",
    "    # 根据字符串长度计算一个权重，用于调整相似度得分\n",
    "    len_weight = min(len(str1), len(str2)) / max(len(str1), len(str2))\n",
    "    \n",
    "    # 计算标准的相似度得分\n",
    "    similarity_score = fuzz.WRatio(str1, str2)\n",
    "    \n",
    "    # 根据长度权重调整得分\n",
    "    score = similarity_score * len_weight\n",
    "    return score\n",
    "\n",
    "# best_match = process.extractOne(query, candidate_key, scorer=adjusted_ratio_fn)"
   ]
  },
  {
   "cell_type": "code",
   "execution_count": 41,
   "metadata": {},
   "outputs": [
    {
     "name": "stdout",
     "output_type": "stream",
     "text": [
      "[('调节中央显示屏亮度在中央显示屏中点击-设置-显示，进入显示设置界面。\\n01点击设置中央显示屏亮暗模式。', 7.280000000000001), ('调节中央显示屏亮度在中央显示屏中点击-设置-显示，进入显示设置界面。\\n01点击设置中央显示屏亮暗模式。', 7.280000000000001), ('■仪表板上的调光器，请参见调节背光亮度（页码 90）。\\n设置中央显示屏显示状态\\n调节中央显示屏显示模式在中央显示屏中点击-设置-显示，进入显示设置界面。', 4.918918918918919), ('按压按钮：■短按暂停或播放音乐/视频。■长按约5秒锁屏/待机模式，在锁屏模式下，点击中央显示屏上的任意位置或长按中控台按钮可以重新解锁屏幕。\\n主界面中央显示屏主界面按键01HOME按键：进入主界面。', 4.571428571428571), ('01点击设置中央显示屏亮暗模式。\\n02滑动滑条调节中央显示屏亮度。您还可以通过以下方式调节中央显示屏亮度：■中央显示屏车辆功能界面，请参见车辆功能界面（页码 266）。', 4.439024390243903)]\n"
     ]
    },
    {
     "data": {
      "text/plain": [
       "'唤醒中央显示器的方法有多种：\\n1. 调节中央显示屏亮度：在中央显示屏中点击-设置-显示，进入显示设置界面，然后点击设置中央显示屏亮暗模式。\\n2. 调节中央显示屏显示状态：在中央显示屏中点击-设置-显示，进入显示设置界面，然后按压按钮，短按暂停或播放音乐/视频，长按约5秒锁屏/待机模式。\\n3. 进入主界面：在主界面按键01HOME按键，进入主界面。\\n\\n这些方法都可以用来唤醒中央显示器。'"
      ]
     },
     "execution_count": 41,
     "metadata": {},
     "output_type": "execute_result"
    }
   ],
   "source": [
    "from langchain.chains import create_citation_fuzzy_match_chain\n",
    "retriever = sentence_db.as_retriever(search_type=\"similarity\", search_kwargs={'k': 10})\n",
    "\n",
    "qa = RetrievalQA.from_chain_type(llm=llm, chain_type=\"map_reduce\", retriever=retriever,return_source_documents=True)\n",
    "\n",
    "query = \"如何从锁定状态唤醒中央显示器\"\n",
    "\n",
    "candidate_strs = [doc.page_content for doc in retriever.get_relevant_documents(query=query)]\n",
    "matchs = process.extractBests(query, candidate_strs, scorer=adjusted_ratio_fn)\n",
    "print(matchs)\n",
    "\n",
    "matchs = [match[0] for match in matchs]\n",
    "query = f\"根据相关信息回答问题。问题是：“{query}” \\n相关信息是：{'<SEP>'.join(matchs)}。答案是\"\n",
    "response, history = model.chat(tokenizer, query, history=[])\n",
    "response\n",
    "# result = qa({\"query\": query})"
   ]
  },
  {
   "cell_type": "code",
   "execution_count": 16,
   "metadata": {},
   "outputs": [
    {
     "data": {
      "text/plain": [
       "'1. 开启陡坡缓降系统后，组合仪表显示绿色指示灯。\\n2. 当陡坡缓降系统出现故障时，组合仪表显示黄色指示灯。\\n3. 加油\\n4. 车身稳定控制系统关闭指示灯：车身稳定控制系统关闭时，该指示灯点亮。\\n5. 陡坡缓降系统指示灯：陡坡缓降系统开启并未激活时，白色指示灯点亮；激活后，绿色指示灯点亮。\\n6. □激活HDC后，您可以通过踩下制动踏板或油门踏板调整下坡车速。\\n7. 功能状态说明开启陡坡缓降系统后，组合仪表显示白色指示灯。\\n8. 激活陡坡缓降系统时，组合仪表显示绿色指示灯。\\n9. 陡坡缓降系统指示灯：陡坡缓降系统开启并未激活时，白色指示灯点亮；激活后，绿色指示灯点亮。\\n10. 外部充电连接警告指示灯：外部充电电缆连接成功后，该指示灯点亮。'"
      ]
     },
     "execution_count": 16,
     "metadata": {},
     "output_type": "execute_result"
    }
   ],
   "source": [
    "from tqdm import tqdm\n",
    "system_info = {\"role\": \"system\", \"content\": \"你是一个关键词提取器，下列是一个问题，需要你提取出文本中的关键词，不要回答问题！\"}\n",
    "history = [system_info]\n",
    "related_str = [\n",
    "    \"激活陡坡缓降系统时，组合仪表显示绿色指示灯。\\n当陡坡缓降系统出现故障时，组合仪表显示黄色指示灯。\\n<SEP>警告:\\n■在下坡路段，当陡坡缓降系统出现故障时，请立刻踩下制动踏板主动控制下坡速度。\\n加油\",\n",
    "    \"车身稳定控制系统关闭指示灯：车身稳定控制系统关闭时，该指示灯点亮。\\n陡坡缓降系统指示灯：陡坡缓降系统开启并未激活时，白色指示灯点亮；激活后，绿色指示灯点亮。\",\n",
    "    \"□激活HDC后，您可以通过踩下制动踏板或油门踏板调整下坡车速。\\n功能状态说明开启陡坡缓降系统后，组合仪表显示白色指示灯。\\n激活陡坡缓降系统时，组合仪表显示绿色指示灯。\"\n",
    "    \"陡坡缓降系统指示灯：陡坡缓降系统开启并未激活时，白色指示灯点亮；激活后，绿色指示灯点亮。\\n外部充电连接警告指示灯：外部充电电缆连接成功后，该指示灯点亮。\",\n",
    "]\n",
    "tmp_str = [f\"第{i+1}段相关信息\" + related_str[i] for i in range(len(related_str))]\n",
    "\n",
    "template = \"你是一个关键词提取器，下列是一个问题，需要你提取出文本中的关键词。不要回答问题！最多提取3个关键词。\\n问题是：“{question}” 将提取出的关键词以逗号隔开。\\n关键词是：\"\n",
    "query = f\"根据问题，去除无关文本后，对相关文本按相关性进行排序，问题是：“开启陡坡缓降系统后，组合仪表显示什么颜色的指示灯？” \\n相关信息是：{tmp_str}。对文本相似度排序：\"\n",
    "response, history = model.chat(tokenizer, query, history=[])\n",
    "response\n",
    "# question_keyword_dict = {}\n",
    "# for question in tqdm(questions):\n",
    "#     query = template.format(question=question)\n",
    "#     response, history = model.chat(tokenizer, query, history=[])\n",
    "#     question_keyword_dict[question] = response"
   ]
  },
  {
   "cell_type": "code",
   "execution_count": 15,
   "metadata": {},
   "outputs": [
    {
     "data": {
      "text/plain": [
       "{'怎样加热座椅？': '加热, 座椅, 方法',\n",
       " '自动模式下，中央显示屏是如何切换日间和夜间模式的？': '自动模式, 中央显示屏, 日间和夜间模式',\n",
       " '如何通过中央显示屏进行副驾驶员座椅设置？': '中央显示屏, 副驾驶员座椅设置',\n",
       " '副仪表台按钮如何操作中央显示屏？': '副仪表台按钮, 中央显示屏, 操作',\n",
       " '如何从锁定状态唤醒中央显示器?': '唤醒, 中央显示器, 状态',\n",
       " '如何正确使用颈椎保护系统？': '颈椎保护系统, 使用, 正确',\n",
       " '前方交叉路口预警系统（FCTA）的作用是什么？': '前方交叉路口预警系统（FCTA），作用',\n",
       " '在使用FCTA时需要注意哪些事项？': 'FCTA, 注意事项',\n",
       " '如何打开车辆尾门？': '打开, 车辆, 尾门',\n",
       " '在哪些情况下智能钥匙可能会受到干扰，导致功能异常？': '智能钥匙, 干扰, 功能异常',\n",
       " '车辆尾门的防夹保护功能是如何工作的？': '车辆尾门, 防夹保护功能, 工作原理',\n",
       " '在操作电动后备厢时需要注意哪些事项？': '电动后备厢, 操作, 注意事项',\n",
       " '如何进入车辆功能界面？': '车辆功能界面, 进入, 关键词',\n",
       " '在车辆功能界面有哪些操作选项？': '车辆功能, 操作选项',\n",
       " '如何编辑快捷开关图标?': '如何编辑, 快捷开关, 图标',\n",
       " '如何减少车辆腐蚀风险？': '减少车辆腐蚀风险,车辆腐蚀,风险',\n",
       " '如何通过空调系统面板调节空调风量？': '空调系统, 面板, 风量',\n",
       " '如何创建新的Lynk&CoID？': '创建新的Lynk&CoID, 关键词提取, 问题',\n",
       " '什么是车主账户？': '车主账户, 什么是, 车主',\n",
       " '如何创建人脸识别？': '创建, 人脸识别, 如何',\n",
       " '如何添加亲情账号？': '添加, 亲情账号, 如何',\n",
       " '如何开启或关闭用车偏好自动同步？': '开启, 关闭, 用车偏好自动同步',\n",
       " '如何熄火我的车辆？': '熄火, 车辆, 如何',\n",
       " '如何通过遥控钥匙启动车辆？': '遥控钥匙, 启动车辆, 如何',\n",
       " '如果遥控钥匙电池电量低，我应该如何启动车辆？': '遥控钥匙, 电池电量低, 启动车辆',\n",
       " '如何调节外后视镜？': '调节, 外后视镜, 方法',\n",
       " '外部反光境显示物体距离是否准确?': '外部反光境, 物体距离, 准确',\n",
       " '什么是自动驻车系统？': '自动驻车系统, 什么是, 汽车技术',\n",
       " '在什么情况下会停用AutoHold并启用EPB功能？': '停用AutoHold, 启用EPB功能, 情况',\n",
       " '中央扶手箱的USB接口有几个？它们分别是什么类型？': '中央扶手箱, USB接口, 类型',\n",
       " '中央扶手箱所支持的U盘及数据传输格式有哪些？': '中央扶手箱, U盘, 数据传输格式',\n",
       " '如何通过中央显示屏调节驾驶员侧座椅通风强度？': '中央显示屏, 驾驶员侧座椅, 通风强度',\n",
       " '如何关闭前排座行车通风功能？': '关闭, 前排座, 行车通风功能',\n",
       " '如何进入系统设置界面？': '进入系统设置界面,电脑,操作',\n",
       " '在系统界面可以进行哪些操作？': '系统界面, 操作, 系统',\n",
       " '什么是无钥匙进入系统？': '无钥匙进入系统, 什么是, 关键词',\n",
       " '如何设置无钥匙解锁模式？': '设置, 无钥匙, 解锁模式',\n",
       " '设置无钥匙解锁中单门和全车的区别在于什么？': '设置, 无钥匙, 解锁',\n",
       " '驾驶车辆时应遵守哪些注意事项？': '驾驶, 车辆, 遵守, 注意事项',\n",
       " '如何启用或停用手套箱密码保护功能？': '手套箱密码保护功能, 启用, 停用',\n",
       " '驾驶员状态监测系统是如何工作的？': '驾驶员状态监测系统,工作原理,实时监测',\n",
       " '什么情况下会影响到驾驶员状态监测系统的工作？': '驾驶员状态监测系统, 工作, 影响因素',\n",
       " '如何启用后排儿童锁功能？': '启用, 后排儿童锁, 功能',\n",
       " '安全气囊是什么？它的作用是什么？': '安全气囊,作用,是什么',\n",
       " '如果未使用或未正确使用安全带，会对安全气囊有何影响？\\xa0': '如果, 未使用, 安全带, 安全气囊',\n",
       " '在使用车辆时，有哪些安全气囊的注意事项？': '车辆, 气囊, 安全',\n",
       " '如何开启动力电池电量保持功能？': '开启, 动力电池, 电量保持',\n",
       " '在开启动力电池的情况下，选择经济性优先和充电速度优先有什么区别？': '开启动力电池, 经济性优先, 充电速度优先',\n",
       " '后方碰撞预警系统在什么情况下会启动？': '后方碰撞预警系统, 启动, 情况',\n",
       " '如何调整方向盘的位置？': '调整方向盘, 位置',\n",
       " '什么情况下不能调节车辆的方向盘？': '车辆, 方向盘, 调节',\n",
       " '如何通过手机APP启动车辆？': '手机APP, 启动车辆, 方法',\n",
       " '什么是陡坡缓降系统（HDC什么是陡坡缓降系统（HDC）？': '陡坡缓降系统, HDC, 系统',\n",
       " '当坡度过大时，如何操作才能使车辆保持匀速地行驶？': '当, 坡度, 车辆, 匀速',\n",
       " '在什么情况下HDC会激活？': 'HDC, 激活, 情况',\n",
       " '在什么情况下无法激活或自动退出HDC功能？': '无法激活, 自动退出, HDC功能',\n",
       " '开启陡坡缓降系统后，组合仪表显示什么颜色的指示灯？': '开启, 陡坡缓降, 系统, 组合仪表',\n",
       " '激活陡坡缓降系统时，组合仪表显示什么颜色的指示灯？': '激活, 陡坡缓降系统, 组合仪表',\n",
       " '当陡坡缓降系统出现故障时，组合仪表会显示怎样的提示？': '陡坡缓降系统, 故障, 组合仪表',\n",
       " '坡道辅助系统的主要功能是什么？': '坡道辅助系统, 主要功能, 提取关键词',\n",
       " '使用坡道辅助系统时需要注意哪些警告？': '坡道辅助系统, 警告, 注意事项',\n",
       " '在有路缘石的上坡和下坡驻车时，应如何操作？': '有路缘石, 上坡, 下坡, 驻车',\n",
       " '新车在最初的2000km行驶期间应遵守哪些事项？': '新车, 行驶期间, 遵守事项',\n",
       " '当刹车片将达到最小安全厚度时会有什么表现？': '刹车片, 最小安全厚度, 表现',\n",
       " '如果听到持续的高频尖锐噪声应该怎么做？': '持续, 高频, 尖锐',\n",
       " '风挡摄像头和前雷达在什么情况下会弹出警示消息？': '风挡摄像头, 前雷达, 警示消息',\n",
       " '如何通过蓝牙钥匙启动车辆？': '蓝牙钥匙, 启动车辆, 汽车',\n",
       " '在什么情况下无法通过蓝牙钥匙启动车辆？': '蓝牙钥匙, 启动车辆, 无法',\n",
       " '如何通过网络远程启动发动机？': '网络远程, 发动机启动',\n",
       " '变道辅助系统由哪三部分组成？': '变道辅助系统, 组成, 部分',\n",
       " '如何检查制动液液位？': '检查制动液液位,制动液,液位检查',\n",
       " '如何调节车辆的背光亮度？': '车辆, 背光, 亮度',\n",
       " '在白天和夜晚，开启和未开启整车背光联动时，转动调光旋钮有什么不同？': '白天, 夜晚, 调光旋钮',\n",
       " '当车辆发生故障时，应该如何处理？': '车辆故障, 处理方式, 解决方案',\n",
       " '为什么不建议自行修理车辆故障？': '为什么不建议自行修理车辆故障？\\n\\n提取出的关键词：不建议, 自行修理, 车辆故障',\n",
       " '什么是能量回收系统？': '能量回收系统, 回收系统, 能量系统',\n",
       " '如何知道车辆正在进行能量回收？': '车辆, 能量回收, 进行中',\n",
       " '影响能量回收多少的因素有哪些？': '影响能量回收多少的因素,能量回收,因素',\n",
       " '什么是智能远近光控制系统？': '智能远近光系统, 控制系统, 远近光',\n",
       " '在什么情况下可以开启智能远近光控制系统？': '智能远近光, 开启, 情况',\n",
       " '哪些因素可能导致智能远近光控制系统无法正常工作？': '智能远近光, 系统无法正常工作, 因素',\n",
       " '如何启用前除霜/除雾功能？': '除霜, 除雾, 功能',\n",
       " '当我开启前挡风玻璃的去冰去雾模式时，车辆会有什么反应？': '开启, 前挡风玻璃, 去冰去雾模式',\n",
       " '为什么驾驶之前需要确保挡风玻璃无冰渣、积雪或冷凝水？': '驾驶, 挡风玻璃, 冰渣, 积雪, 冷凝水',\n",
       " '什么情况下车辆需要进行报废处理？': '车辆, 报废, 处理',\n",
       " '什么是遥控泊车（RPA）？': '遥控泊车（RPA），智能泊车，无人驾驶',\n",
       " '使用Lynk&CoApp的RPA功能需要注意什么？': 'Lynk&CoApp, RPA功能, 注意事项',\n",
       " '如何开启方向盘助力与驾驶模式联动？': '开启, 方向盘, 助力',\n",
       " '有哪些可选的方向盘转向助力模式？': '可选的方向盘转向助力模式,发展方向盘助力模式',\n",
       " '主动式座舱清洁系统的作用是什么？': '主动式座舱清洁系统, 作用, 提取',\n",
       " '全景天窗是由几部分组成的？': '全景天窗, 组成, 几部分',\n",
       " '如何使用位置记忆功能？': '位置记忆功能, 如何使用, 关键词',\n",
       " '如何更换后挡风玻璃雨刮片？': '更换, 后挡风玻璃, 雨刮片',\n",
       " '在更换雨刮片时需要注意什么？': '更换, 雨刮片, 注意事项',\n",
       " '如何添加香氛精油？': '添加, 香氛, 精油',\n",
       " '我应该在哪里添加香氛精油？': '香氛精油,在哪里,添加',\n",
       " '什么是转向助力系统？': '转向助力系统, 什么是, 关键词',\n",
       " '涉水行驶前应注意什么？': '涉水行驶, 注意事项, 前',\n",
       " '涉水驾驶后需要进行哪些检查？': '涉水驾驶, 检查, 驾驶',\n",
       " '什么时候应该为车辆打蜡？': '车辆打蜡,什么时候,应该'}"
      ]
     },
     "execution_count": 15,
     "metadata": {},
     "output_type": "execute_result"
    }
   ],
   "source": [
    "question_keyword_dict"
   ]
  },
  {
   "cell_type": "code",
   "execution_count": 20,
   "metadata": {},
   "outputs": [],
   "source": [
    "from typing import List, Optional, Tuple\n",
    "def clean_related_str(related_str:List, keyword: Optional[tuple], threshold=-80):\n",
    "\n",
    "    \"\"\"\n",
    "        Input:\n",
    "            related_str: List[str]\n",
    "        Return:\n",
    "            List[str]\n",
    "    \"\"\"\n",
    "    if len(related_str) == 1:\n",
    "        return related_str\n",
    "\n",
    "    ## remove previous section (if it contains the keyword)\n",
    "    if len(keyword) > 0 and keyword[0][1] > threshold:\n",
    "        potential_section = keyword[0][0] + \"\\n\"\n",
    "        for i in range(len(related_str)):\n",
    "            if potential_section in related_str[i]:\n",
    "                related_str[i] = potential_section + potential_section.join(related_str[i].split(potential_section)[1:])\n",
    "            \n",
    "    ## remove duplicate\n",
    "    tmp_str = \"<BOS>。\\n\".join(related_str)\n",
    "    parts = tmp_str.split(\"。\\n\")\n",
    "    seen = set()\n",
    "    deduplicated_parts = []\n",
    "    # 去重，同时保证去重后的顺序不变\n",
    "    for part in parts:\n",
    "        if part not in seen:\n",
    "            seen.add(part)\n",
    "            deduplicated_parts.append(part)\n",
    "    tmp_str = \"。\\n\".join(deduplicated_parts)\n",
    "    related_str = tmp_str.split(\"<BOS>\")\n",
    "    related_str = [str.strip(\"。\\n\") for str in related_str]\n",
    "\n",
    "    ## adding concat sentence\n",
    "    # for i in range(len(related_str)):\n",
    "    #     related_str[i] += f\"第{i}段相关材料\" + related_str[i]\n",
    "    for str in related_str:\n",
    "        print(str)\n",
    "    return related_str\n"
   ]
  },
  {
   "cell_type": "code",
   "execution_count": 25,
   "metadata": {},
   "outputs": [
    {
     "name": "stdout",
     "output_type": "stream",
     "text": [
      "超车时，您可将拨杆朝向自身方向拉动然后松开，此时远光灯闪烁一次，以提醒前方车辆。\n",
      "使用危险警告灯\n",
      "危险警告灯按键车辆遇到交通事故或其他紧急情况时，按下危险警告灯按键，启用危险警告灯。\n",
      "<SEP>说明:\n",
      "□发生碰撞情况下，危险警告灯也将自动点亮。\n",
      "调节背光亮度\n",
      "使用调光旋钮调节亮度白天情况下，未开启整车背光联动时，转动调光旋钮仅调节开关背光亮度，开启整车背光联动时，转动调光旋钮可同时调节中央显示屏和开关背光的亮度。\n",
      "夜晚情况下，未开启整车背光联动时，转动调光旋钮可同时调节仪表显示屏和开关背光的亮度，开启整车背光联动时，转动调光旋钮可同时调节仪表显示屏、中央显示屏、开关背光的亮度。在中央显示屏中点击-设置-显示，进入显示设置界面。\n",
      "01点击开启/关闭整车背光联动。\n",
      "□外界环境光照较强时，您可能会看不见开关背光\n",
      "<SEP>说明:\n",
      "□外界环境光照较强时，您可能会看不见开关背光。\n",
      "设置车内氛围灯\n",
      "氛围灯用于确保驾驶过程中车内光线不会太暗，同时也可营造愉快的驾驶环境\n"
     ]
    },
    {
     "data": {
      "text/plain": [
       "['超车时，您可将拨杆朝向自身方向拉动然后松开，此时远光灯闪烁一次，以提醒前方车辆。\\n使用危险警告灯\\n危险警告灯按键车辆遇到交通事故或其他紧急情况时，按下危险警告灯按键，启用危险警告灯。\\n<SEP>说明:\\n□发生碰撞情况下，危险警告灯也将自动点亮。\\n调节背光亮度\\n使用调光旋钮调节亮度白天情况下，未开启整车背光联动时，转动调光旋钮仅调节开关背光亮度，开启整车背光联动时，转动调光旋钮可同时调节中央显示屏和开关背光的亮度。\\n夜晚情况下，未开启整车背光联动时，转动调光旋钮可同时调节仪表显示屏和开关背光的亮度，开启整车背光联动时，转动调光旋钮可同时调节仪表显示屏、中央显示屏、开关背光的亮度。在中央显示屏中点击-设置-显示，进入显示设置界面。\\n01点击开启/关闭整车背光联动。\\n□外界环境光照较强时，您可能会看不见开关背光',\n",
       " '<SEP>说明:\\n□外界环境光照较强时，您可能会看不见开关背光。\\n设置车内氛围灯\\n氛围灯用于确保驾驶过程中车内光线不会太暗，同时也可营造愉快的驾驶环境']"
      ]
     },
     "execution_count": 25,
     "metadata": {},
     "output_type": "execute_result"
    }
   ],
   "source": [
    "related_str = [\n",
    "  \"超车时，您可将拨杆朝向自身方向拉动然后松开，此时远光灯闪烁一次，以提醒前方车辆。\\n使用危险警告灯\\n危险警告灯按键车辆遇到交通事故或其他紧急情况时，按下危险警告灯按键，启用危险警告灯。\\n<SEP>说明:\\n□发生碰撞情况下，危险警告灯也将自动点亮。\\n调节背光亮度\\n使用调光旋钮调节亮度白天情况下，未开启整车背光联动时，转动调光旋钮仅调节开关背光亮度，开启整车背光联动时，转动调光旋钮可同时调节中央显示屏和开关背光的亮度。\\n夜晚情况下，未开启整车背光联动时，转动调光旋钮可同时调节仪表显示屏和开关背光的亮度，开启整车背光联动时，转动调光旋钮可同时调节仪表显示屏、中央显示屏、开关背光的亮度。在中央显示屏中点击-设置-显示，进入显示设置界面。\\n01点击开启/关闭整车背光联动。\\n□外界环境光照较强时，您可能会看不见开关背光。。\\n\",\n",
    "            \"夜晚情况下，未开启整车背光联动时，转动调光旋钮可同时调节仪表显示屏和开关背光的亮度，开启整车背光联动时，转动调光旋钮可同时调节仪表显示屏、中央显示屏、开关背光的亮度。在中央显示屏中点击-设置-显示，进入显示设置界面。\\n<SEP>说明:\\n□外界环境光照较强时，您可能会看不见开关背光。\\n设置车内氛围灯\\n氛围灯用于确保驾驶过程中车内光线不会太暗，同时也可营造愉快的驾驶环境。\"\n",
    "]\n",
    "keywords = [\n",
    "    [\n",
    "        \"车辆功能界面\",\n",
    "        -67.70877699284065\n",
    "    ],\n",
    "    [\n",
    "        \"通过中央显示屏选择驾驶模式\",\n",
    "        -71.42315380117144\n",
    "    ],\n",
    "]\n",
    "\n",
    "clean_related_str(related_str, keywords)"
   ]
  }
 ],
 "metadata": {
  "kernelspec": {
   "display_name": "Bert",
   "language": "python",
   "name": "python3"
  },
  "language_info": {
   "codemirror_mode": {
    "name": "ipython",
    "version": 3
   },
   "file_extension": ".py",
   "mimetype": "text/x-python",
   "name": "python",
   "nbconvert_exporter": "python",
   "pygments_lexer": "ipython3",
   "version": "3.8.13"
  },
  "orig_nbformat": 4
 },
 "nbformat": 4,
 "nbformat_minor": 2
}
